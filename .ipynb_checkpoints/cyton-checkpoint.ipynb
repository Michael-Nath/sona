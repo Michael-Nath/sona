{
 "cells": [
  {
   "cell_type": "code",
   "execution_count": 2,
   "metadata": {},
   "outputs": [
    {
     "ename": "ModuleNotFoundError",
     "evalue": "No module named 'boto3'",
     "output_type": "error",
     "traceback": [
      "\u001b[0;31m---------------------------------------------------------------------------\u001b[0m",
      "\u001b[0;31mModuleNotFoundError\u001b[0m                       Traceback (most recent call last)",
      "\u001b[0;32m<ipython-input-2-0eac63b94a1c>\u001b[0m in \u001b[0;36m<module>\u001b[0;34m\u001b[0m\n\u001b[0;32m----> 1\u001b[0;31m \u001b[0;32mfrom\u001b[0m \u001b[0mcyton_driver\u001b[0m \u001b[0;32mimport\u001b[0m \u001b[0mconfig_board\u001b[0m\u001b[0;34m,\u001b[0m \u001b[0mstream\u001b[0m\u001b[0;34m,\u001b[0m \u001b[0msave_data\u001b[0m\u001b[0;34m\u001b[0m\u001b[0;34m\u001b[0m\u001b[0m\n\u001b[0m\u001b[1;32m      2\u001b[0m \u001b[0;32mimport\u001b[0m \u001b[0mtime\u001b[0m\u001b[0;34m\u001b[0m\u001b[0;34m\u001b[0m\u001b[0m\n\u001b[1;32m      3\u001b[0m \u001b[0mDURATION\u001b[0m \u001b[0;34m=\u001b[0m \u001b[0;36m30\u001b[0m\u001b[0;34m\u001b[0m\u001b[0;34m\u001b[0m\u001b[0m\n",
      "\u001b[0;32m~/program/sona/cyton_driver.py\u001b[0m in \u001b[0;36m<module>\u001b[0;34m\u001b[0m\n\u001b[1;32m      7\u001b[0m \u001b[0;32mfrom\u001b[0m \u001b[0mbrainflow\u001b[0m\u001b[0;34m.\u001b[0m\u001b[0mboard_shim\u001b[0m \u001b[0;32mimport\u001b[0m \u001b[0mBoardShim\u001b[0m\u001b[0;34m,\u001b[0m \u001b[0mBrainFlowInputParams\u001b[0m\u001b[0;34m,\u001b[0m \u001b[0mBoardIds\u001b[0m\u001b[0;34m\u001b[0m\u001b[0;34m\u001b[0m\u001b[0m\n\u001b[1;32m      8\u001b[0m \u001b[0;32mfrom\u001b[0m \u001b[0mdatetime\u001b[0m \u001b[0;32mimport\u001b[0m \u001b[0mdate\u001b[0m\u001b[0;34m\u001b[0m\u001b[0;34m\u001b[0m\u001b[0m\n\u001b[0;32m----> 9\u001b[0;31m \u001b[0;32mimport\u001b[0m \u001b[0mboto3\u001b[0m\u001b[0;34m\u001b[0m\u001b[0;34m\u001b[0m\u001b[0m\n\u001b[0m\u001b[1;32m     10\u001b[0m \u001b[0;34m\u001b[0m\u001b[0m\n\u001b[1;32m     11\u001b[0m \u001b[0;32mfrom\u001b[0m \u001b[0mpprint\u001b[0m \u001b[0;32mimport\u001b[0m \u001b[0mpprint\u001b[0m\u001b[0;34m\u001b[0m\u001b[0;34m\u001b[0m\u001b[0m\n",
      "\u001b[0;31mModuleNotFoundError\u001b[0m: No module named 'boto3'"
     ]
    }
   ],
   "source": [
    "from cyton_driver import config_board, stream, save_data\n",
    "import time\n",
    "DURATION = 30"
   ]
  },
  {
   "cell_type": "code",
   "execution_count": 4,
   "metadata": {},
   "outputs": [
    {
     "name": "stdout",
     "output_type": "stream",
     "text": [
      "<built-in function time>\n",
      "{'accel_channels': [9, 10, 11],\n",
      " 'analog_channels': [19, 20, 21],\n",
      " 'ecg_channels': [1, 2, 3, 4, 5, 6, 7, 8],\n",
      " 'eeg_channels': [1, 2, 3, 4, 5, 6, 7, 8],\n",
      " 'eeg_names': 'Fp1,Fp2,C3,C4,P7,P8,O1,O2',\n",
      " 'emg_channels': [1, 2, 3, 4, 5, 6, 7, 8],\n",
      " 'eog_channels': [1, 2, 3, 4, 5, 6, 7, 8],\n",
      " 'marker_channel': 23,\n",
      " 'name': 'Cyton',\n",
      " 'num_rows': 24,\n",
      " 'other_channels': [12, 13, 14, 15, 16, 17, 18],\n",
      " 'package_num_channel': 0,\n",
      " 'sampling_rate': 250,\n",
      " 'timestamp_channel': 22}\n"
     ]
    },
    {
     "name": "stderr",
     "output_type": "stream",
     "text": [
      "usage: ipykernel_launcher.py [-h] [--board-id BOARD_ID] [--timeout TIMEOUT]\n",
      "                             [--serial-port SERIAL_PORT]\n",
      "                             [--mac-address MAC_ADDRESS]\n",
      "                             [--streamer-params STREAMER_PARAMS]\n",
      "ipykernel_launcher.py: error: unrecognized arguments: --ip=127.0.0.1 --stdin=9003 --control=9001 --hb=9000 --Session.signature_scheme=\"hmac-sha256\" --Session.key=b\"39b4eb87-3f77-46ec-a31e-16bf939e678b\" --shell=9002 --transport=\"tcp\" --iopub=9004 --f=/Users/michaelnath/Library/Jupyter/runtime/kernel-v2-54610aqqbOq8GwVGg.json\n"
     ]
    },
    {
     "ename": "SystemExit",
     "evalue": "2",
     "output_type": "error",
     "traceback": [
      "An exception has occurred, use %tb to see the full traceback.\n",
      "\u001b[0;31mSystemExit\u001b[0m\u001b[0;31m:\u001b[0m 2\n"
     ]
    }
   ],
   "source": [
    "print(time.time)\n",
    "board, args = config_board()\n",
    "print(time.time)\n",
    "print(board.board_id)\n",
    "data = stream(board, args, DURATION)\n",
    "print(time.time)\n",
    "filename = save_data(data)\n",
    "print(time.time)"
   ]
  },
  {
   "cell_type": "code",
   "execution_count": null,
   "metadata": {},
   "outputs": [],
   "source": []
  }
 ],
 "metadata": {
  "kernelspec": {
   "display_name": "Python 3",
   "language": "python",
   "name": "python3"
  },
  "language_info": {
   "codemirror_mode": {
    "name": "ipython",
    "version": 3
   },
   "file_extension": ".py",
   "mimetype": "text/x-python",
   "name": "python",
   "nbconvert_exporter": "python",
   "pygments_lexer": "ipython3",
   "version": "3.8.8"
  },
  "vscode": {
   "interpreter": {
    "hash": "5927e24f9d2eeaec6a2e202f70f95039ee9ce12436af2e15e1e21313030bea18"
   }
  }
 },
 "nbformat": 4,
 "nbformat_minor": 4
}
